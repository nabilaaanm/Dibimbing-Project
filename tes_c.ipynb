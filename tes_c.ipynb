{
  "nbformat": 4,
  "nbformat_minor": 0,
  "metadata": {
    "colab": {
      "provenance": [],
      "authorship_tag": "ABX9TyMUwKANKPwKbCvbxMa791ur",
      "include_colab_link": true
    },
    "kernelspec": {
      "name": "python3",
      "display_name": "Python 3"
    },
    "language_info": {
      "name": "python"
    }
  },
  "cells": [
    {
      "cell_type": "markdown",
      "metadata": {
        "id": "view-in-github",
        "colab_type": "text"
      },
      "source": [
        "<a href=\"https://colab.research.google.com/github/nabilaaanm/Dibimbing-Project/blob/main/tes_c.ipynb\" target=\"_parent\"><img src=\"https://colab.research.google.com/assets/colab-badge.svg\" alt=\"Open In Colab\"/></a>"
      ]
    },
    {
      "cell_type": "code",
      "execution_count": 18,
      "metadata": {
        "colab": {
          "base_uri": "https://localhost:8080/"
        },
        "id": "yWk7V708MURl",
        "outputId": "bb830f5c-a348-4dd9-ef15-dab791a657fd"
      },
      "outputs": [
        {
          "output_type": "stream",
          "name": "stdout",
          "text": [
            "Masukkan nomor telepon: 087812223445\n",
            "Nomor telepon valid.\\n"
          ]
        },
        {
          "output_type": "execute_result",
          "data": {
            "text/plain": []
          },
          "metadata": {},
          "execution_count": 18
        }
      ],
      "source": [
        "# Menulis kode C ke file\n",
        "%%shell\n",
        "echo '#include <stdio.h>\n",
        "#include <regex.h>\n",
        "#include <string.h>\n",
        "\n",
        "// Fungsi untuk validasi nomor telepon menggunakan regex\n",
        "int validasi_nomor_telepon(const char *nomor) {\n",
        "    regex_t regex;\n",
        "    // Pola regex untuk nomor telepon\n",
        "    const char *pola = \"^[0-9]{10,15}$\";\n",
        "\n",
        "    // Kompilasi regex\n",
        "    if (regcomp(&regex, pola, REG_EXTENDED) != 0) {\n",
        "        return 0; // Gagal kompilasi\n",
        "    }\n",
        "\n",
        "    // Eksekusi regex\n",
        "    int status = regexec(&regex, nomor, 0, NULL, 0);\n",
        "\n",
        "    // Bersihkan memori yang digunakan oleh regex\n",
        "    regfree(&regex);\n",
        "\n",
        "    // Jika cocok\n",
        "    if (status == 0) {\n",
        "        return 1; // Nomor telepon valid\n",
        "    } else {\n",
        "        return 0; // Nomor telepon tidak valid\n",
        "    }\n",
        "}\n",
        "\n",
        "int main() {\n",
        "    char nomor[20];\n",
        "\n",
        "    // Input nomor telepon\n",
        "    printf(\"Masukkan nomor telepon: \");\n",
        "    scanf(\"%s\", nomor);\n",
        "\n",
        "    // Validasi nomor telepon\n",
        "    if (validasi_nomor_telepon(nomor)) {\n",
        "        printf(\"Nomor telepon valid.\\\\n\");\n",
        "    } else {\n",
        "        printf(\"Nomor telepon tidak valid.\\\\n\");\n",
        "    }\n",
        "\n",
        "    return 0;\n",
        "}' > phone_validation.c\n",
        "\n",
        "# Kompilasi file C\n",
        "gcc phone_validation.c -o phone_validation\n",
        "\n",
        "# Jalankan program yang sudah dikompilasi\n",
        "./phone_validation\n"
      ]
    }
  ]
}